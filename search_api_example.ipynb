{
 "cells": [
  {
   "cell_type": "markdown",
   "id": "b8c0f0ac",
   "metadata": {},
   "source": [
    "# 검색 API 사용하기\n",
    "\n",
    "보안등 SER를 위해 지번 주소로 도로명 구하기"
   ]
  },
  {
   "cell_type": "code",
   "execution_count": null,
   "id": "2b99052f",
   "metadata": {},
   "outputs": [],
   "source": [
    "from config import vworld_key_search #vworld 인증키 저장한 config.py 파일 불러오기\n",
    "import pandas as pd\n",
    "import json\n",
    "import requests"
   ]
  },
  {
   "cell_type": "code",
   "execution_count": null,
   "id": "9ae3e332",
   "metadata": {},
   "outputs": [],
   "source": [
    "#가로등과 보안등 합친 데이터\n",
    "df = pd.read_csv(\"입력데이터1.csv\")"
   ]
  },
  {
   "cell_type": "code",
   "execution_count": null,
   "id": "501fe7dd",
   "metadata": {},
   "outputs": [],
   "source": [
    "#지번 주소가 저장되어 있는 데이터\n",
    "df_addr = pd.read_csv(\"입력데이터2.csv\")"
   ]
  },
  {
   "cell_type": "code",
   "execution_count": null,
   "id": "22fc59e2",
   "metadata": {},
   "outputs": [],
   "source": [
    "#보안등 정보만 가져온 dataframe\n",
    "lamp2 = df[df[\"LAMP\"] == 2]\n",
    "\n",
    "lamp2"
   ]
  },
  {
   "cell_type": "code",
   "execution_count": null,
   "id": "38e5deab",
   "metadata": {},
   "outputs": [],
   "source": [
    "#지번 주소 값만 가져오기 - type : str\n",
    "#리스트를 문자열로 합치는 함수 : join\n",
    "' '.join(str(df_addr[df_addr['NO'] == 0]['address']).split()[1:6])"
   ]
  },
  {
   "cell_type": "markdown",
   "id": "b8bbd644",
   "metadata": {},
   "source": [
    "### 변수 선언"
   ]
  },
  {
   "cell_type": "code",
   "execution_count": null,
   "id": "3d3b994d",
   "metadata": {},
   "outputs": [],
   "source": [
    "#요청 URL를 만들기 위한 변수 선언 \n",
    "\n",
    "url = 'http://api.vworld.kr/req/search?' #서버 주소\n",
    "params = 'service=search&request=search&version=2.0&crs=epsg:4326&size=10&page=1&query='#파라미터\n",
    "key = '&type=address&category=PARCEL&format=json&errorformat=json&key='#나머지 파라미터 및 key\n",
    "my_key = vworld_key_search #config.py 파일로 설정\n",
    "road_addr = pd.DataFrame(columns = ['NO', 'road'])"
   ]
  },
  {
   "cell_type": "markdown",
   "id": "691675d7",
   "metadata": {},
   "source": [
    "### 요청을 위한 함수 선언"
   ]
  },
  {
   "cell_type": "code",
   "execution_count": null,
   "id": "4aa1d279",
   "metadata": {},
   "outputs": [],
   "source": [
    "def request(addr):\n",
    "    page = requests.get(url+params+addr+key+my_key)\n",
    "    json_data = json.loads(page.text)\n",
    "    return json_data"
   ]
  },
  {
   "cell_type": "code",
   "execution_count": null,
   "id": "21ba3ab5",
   "metadata": {},
   "outputs": [],
   "source": [
    "#이 함수는 현재 내가 가지고 있는 데이터에 맞춰서 변경함\n",
    "#각 데이터에 맞는 refactoring 필요\n",
    "def extraction(test_data):\n",
    "    road_addr = pd.DataFrame(columns = ['NO', 'road'])\n",
    "    none = None\n",
    "    for i in range(len(test_data)):\n",
    "        no = 25587 + i\n",
    "        addr = ' '.join(str(df_addr[df_addr['NO'] == no]['address']).split()[1:6])\n",
    "        json_data = request(addr)\n",
    "\n",
    "        if json_data['response']['status'] == 'NOT_FOUND' or json_data['response']['status'] == 'ERROR': #오류일 때\n",
    "            road_addr = road_addr.append({'NO':none, 'road':none}, ignore_index=True)\n",
    "            continue\n",
    "\n",
    "        road = json_data['response']['result']['items'][0]['address']['road']\n",
    "        \n",
    "        road_addr = road_addr.append({'NO':no, 'road':road}, ignore_index=True)\n",
    "    return road_addr"
   ]
  },
  {
   "cell_type": "markdown",
   "id": "c41baf44",
   "metadata": {},
   "source": [
    "### 실행"
   ]
  },
  {
   "cell_type": "code",
   "execution_count": null,
   "id": "1bb7fdb6",
   "metadata": {},
   "outputs": [],
   "source": [
    "road_addr = extraction(lamp2)"
   ]
  },
  {
   "cell_type": "code",
   "execution_count": null,
   "id": "ade4fce8",
   "metadata": {
    "scrolled": true
   },
   "outputs": [],
   "source": [
    "road_addr"
   ]
  },
  {
   "cell_type": "code",
   "execution_count": null,
   "id": "2a0782fb",
   "metadata": {},
   "outputs": [],
   "source": [
    "#저장\n",
    "road_addr.to_csv(\"저장할 이름.csv\", index=False)"
   ]
  }
 ],
 "metadata": {
  "kernelspec": {
   "display_name": "Python 3 (ipykernel)",
   "language": "python",
   "name": "python3"
  },
  "language_info": {
   "codemirror_mode": {
    "name": "ipython",
    "version": 3
   },
   "file_extension": ".py",
   "mimetype": "text/x-python",
   "name": "python",
   "nbconvert_exporter": "python",
   "pygments_lexer": "ipython3",
   "version": "3.9.12"
  }
 },
 "nbformat": 4,
 "nbformat_minor": 5
}
