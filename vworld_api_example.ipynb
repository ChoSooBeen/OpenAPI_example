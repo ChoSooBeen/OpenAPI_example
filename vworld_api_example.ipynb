{
 "cells": [
  {
   "cell_type": "markdown",
   "id": "567e4aaa",
   "metadata": {},
   "source": [
    "# vworld api 사용해보기\n",
    "\n",
    "https://datacook.tistory.com/11\n",
    "\n",
    "open api를 사용하여 만들어진 사이트 : https://www.vworld.kr/dev/v4dv_apimash_s002.do?pageIndex=1&brdIde=21554&mashIde=s001&searchCondition=0&searchKeyword=%EC%A2%8C%ED%91%9C"
   ]
  },
  {
   "cell_type": "code",
   "execution_count": 1,
   "id": "bc5ba756",
   "metadata": {},
   "outputs": [],
   "source": [
    "from config import vworld_key #vworld 인증키 저장한 config.py 파일 불러오기"
   ]
  },
  {
   "cell_type": "code",
   "execution_count": 2,
   "id": "0e3176da",
   "metadata": {},
   "outputs": [],
   "source": [
    "import pandas as pd\n",
    "import json\n",
    "import requests"
   ]
  },
  {
   "cell_type": "code",
   "execution_count": 3,
   "id": "3a78946a",
   "metadata": {},
   "outputs": [],
   "source": [
    "df = pd.read_csv(\"파일이름.csv\")"
   ]
  },
  {
   "cell_type": "code",
   "execution_count": 5,
   "id": "12c53b3c",
   "metadata": {},
   "outputs": [
    {
     "data": {
      "text/plain": [
       "37.439"
      ]
     },
     "execution_count": 5,
     "metadata": {},
     "output_type": "execute_result"
    }
   ],
   "source": [
    "df.iloc[0][3] #위도"
   ]
  },
  {
   "cell_type": "code",
   "execution_count": 6,
   "id": "16fa30eb",
   "metadata": {},
   "outputs": [
    {
     "data": {
      "text/plain": [
       "127.179"
      ]
     },
     "execution_count": 6,
     "metadata": {},
     "output_type": "execute_result"
    }
   ],
   "source": [
    "df.iloc[0][4] #경도"
   ]
  },
  {
   "cell_type": "code",
   "execution_count": 7,
   "id": "a4141d77",
   "metadata": {},
   "outputs": [
    {
     "name": "stdout",
     "output_type": "stream",
     "text": [
      "127.179,37.439\n"
     ]
    }
   ],
   "source": [
    "print(f'{df.iloc[0][4]},{df.iloc[0][3]}') #point test"
   ]
  },
  {
   "cell_type": "code",
   "execution_count": 8,
   "id": "26d48169",
   "metadata": {},
   "outputs": [
    {
     "name": "stdout",
     "output_type": "stream",
     "text": [
      "<class 'str'>\n"
     ]
    }
   ],
   "source": [
    "print(type(f'{df.iloc[0][4]},{df.iloc[0][3]}'))"
   ]
  },
  {
   "cell_type": "code",
   "execution_count": 9,
   "id": "c2a9941d",
   "metadata": {},
   "outputs": [],
   "source": [
    "url = 'http://api.vworld.kr/req/address?' #서버 주소\n",
    "params = 'service=address&request=getAddress&version=2.0&crs=epsg:4326&point='#파라미터\n",
    "key = '&format=json&type=BOTH&zipcode=false&simple=true&key='#나머지 파라미터 및 key\n",
    "my_key = vworld_key #config.py 파일로 설정\n",
    "geocode = pd.DataFrame(columns = ['address','level4L','level4A'])"
   ]
  },
  {
   "cell_type": "code",
   "execution_count": 10,
   "id": "8f041d59",
   "metadata": {},
   "outputs": [],
   "source": [
    "def request_geo(point):\n",
    "    page = requests.get(url+params+point+key+my_key)\n",
    "    json_data = json.loads(page.text)\n",
    "    return json_data"
   ]
  },
  {
   "cell_type": "code",
   "execution_count": 26,
   "id": "4cb0b8b2",
   "metadata": {},
   "outputs": [],
   "source": [
    "def extraction_geo(test_data):\n",
    "    geocode = pd.DataFrame(columns = ['address','level4L', 'level4A'])\n",
    "    none = None\n",
    "    for i in range(len(df)):\n",
    "        point = f'{df.iloc[i][4]},{df.iloc[i][3]}'\n",
    "        json_data = request_geo(point)\n",
    "\n",
    "        if json_data['response']['status'] == 'NOT_FOUND' or json_data['response']['status'] == 'ERROR': #오류일 때\n",
    "            geocode = geocode.append({'address':none,'level4L':none,'level4A':none}, ignore_index=True)\n",
    "            continue\n",
    "\n",
    "        address = json_data['response']['result'][0]['text']\n",
    "        level4L = json_data['response']['result'][0]['structure']['level4L']\n",
    "        level4A = json_data['response']['result'][0]['structure']['level4A']\n",
    "\n",
    "        geocode = geocode.append({'address':address,'level4L':level4L, 'level4A':level4A}, ignore_index=True)\n",
    "    return geocode"
   ]
  },
  {
   "cell_type": "code",
   "execution_count": null,
   "id": "a4709be3",
   "metadata": {},
   "outputs": [],
   "source": [
    "#경도/위도 입력 test\n",
    "json_data = request_geo(f'{df.iloc[0][4]},{df.iloc[0][3]}')\n",
    "\n",
    "print(json_data)\n",
    "print(type(json_data))"
   ]
  },
  {
   "cell_type": "code",
   "execution_count": null,
   "id": "7eadc069",
   "metadata": {},
   "outputs": [],
   "source": [
    "#필요한 데이터 추출 test\n",
    "address = json_data['response']['result'][0]['text']\n",
    "level4L = json_data['response']['result'][0]['structure']['level4L']\n",
    "level4A = json_data['response']['result'][0]['structure']['level4A']\n",
    "\n",
    "print(address)\n",
    "print(level4L)\n",
    "print(level4A)"
   ]
  },
  {
   "cell_type": "code",
   "execution_count": null,
   "id": "c889531f",
   "metadata": {},
   "outputs": [],
   "source": [
    "df_address = extraction_geo(df) #함수 실행 "
   ]
  },
  {
   "cell_type": "code",
   "execution_count": 30,
   "id": "2560c76b",
   "metadata": {},
   "outputs": [],
   "source": [
    "df_address.to_csv('저장.csv', index_label='NO' ,encoding='utf-8')"
   ]
  }
 ],
 "metadata": {
  "kernelspec": {
   "display_name": "Python 3 (ipykernel)",
   "language": "python",
   "name": "python3"
  },
  "language_info": {
   "codemirror_mode": {
    "name": "ipython",
    "version": 3
   },
   "file_extension": ".py",
   "mimetype": "text/x-python",
   "name": "python",
   "nbconvert_exporter": "python",
   "pygments_lexer": "ipython3",
   "version": "3.9.12"
  }
 },
 "nbformat": 4,
 "nbformat_minor": 5
}
